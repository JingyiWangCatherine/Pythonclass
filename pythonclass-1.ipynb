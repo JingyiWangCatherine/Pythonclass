{
  "nbformat": 4,
  "nbformat_minor": 0,
  "metadata": {
    "colab": {
      "name": "Untitled0.ipynb",
      "provenance": [],
      "authorship_tag": "ABX9TyOiUv+WL6hvaobqOTkT8WLd",
      "include_colab_link": true
    },
    "kernelspec": {
      "name": "python3",
      "display_name": "Python 3"
    },
    "language_info": {
      "name": "python"
    }
  },
  "cells": [
    {
      "cell_type": "markdown",
      "metadata": {
        "id": "view-in-github",
        "colab_type": "text"
      },
      "source": [
        "<a href=\"https://colab.research.google.com/github/JingyiWangCatherine/Pythonclass/blob/main/pythonclass-1.ipynb\" target=\"_parent\"><img src=\"https://colab.research.google.com/assets/colab-badge.svg\" alt=\"Open In Colab\"/></a>"
      ]
    },
    {
      "cell_type": "code",
      "metadata": {
        "colab": {
          "base_uri": "https://localhost:8080/"
        },
        "id": "AsHCqB03OhSN",
        "outputId": "31f31573-f821-4ad3-c4b5-d89c8374d86a"
      },
      "source": [
        "3==3"
      ],
      "execution_count": 2,
      "outputs": [
        {
          "output_type": "execute_result",
          "data": {
            "text/plain": [
              "True"
            ]
          },
          "metadata": {
            "tags": []
          },
          "execution_count": 2
        }
      ]
    },
    {
      "cell_type": "code",
      "metadata": {
        "colab": {
          "base_uri": "https://localhost:8080/"
        },
        "id": "cXZXjHkNQNi_",
        "outputId": "a9f7f221-9a36-4120-d7f2-e27b8bbbe77a"
      },
      "source": [
        "type(3.0)\n",
        "type(3)"
      ],
      "execution_count": 5,
      "outputs": [
        {
          "output_type": "execute_result",
          "data": {
            "text/plain": [
              "int"
            ]
          },
          "metadata": {
            "tags": []
          },
          "execution_count": 5
        }
      ]
    },
    {
      "cell_type": "code",
      "metadata": {
        "id": "KtMDbGloQXvK"
      },
      "source": [
        "x={'one':1, 'two':2,'three':3}"
      ],
      "execution_count": 8,
      "outputs": []
    },
    {
      "cell_type": "code",
      "metadata": {
        "colab": {
          "base_uri": "https://localhost:8080/"
        },
        "id": "UPGzwoILTGzI",
        "outputId": "7acba123-ba67-468f-81fb-c401f7a1b2d4"
      },
      "source": [
        "x['three']\n",
        "type(x)"
      ],
      "execution_count": 10,
      "outputs": [
        {
          "output_type": "execute_result",
          "data": {
            "text/plain": [
              "dict"
            ]
          },
          "metadata": {
            "tags": []
          },
          "execution_count": 10
        }
      ]
    },
    {
      "cell_type": "code",
      "metadata": {
        "colab": {
          "base_uri": "https://localhost:8080/"
        },
        "id": "x8KGLZ6QTcOf",
        "outputId": "875b5d91-38ce-44c1-a65c-81d90eda6c1a"
      },
      "source": [
        "x=[1, 2, 3, \"four\", '5']\n",
        "type(x)"
      ],
      "execution_count": 18,
      "outputs": [
        {
          "output_type": "execute_result",
          "data": {
            "text/plain": [
              "list"
            ]
          },
          "metadata": {
            "tags": []
          },
          "execution_count": 18
        }
      ]
    },
    {
      "cell_type": "code",
      "metadata": {
        "colab": {
          "base_uri": "https://localhost:8080/"
        },
        "id": "Krsq62FATvs_",
        "outputId": "81b932d4-adbc-409b-fd1e-f8ca6f0481ee"
      },
      "source": [
        "if -10:\n",
        "  print('yes')\n",
        "else:\n",
        "    print('no')"
      ],
      "execution_count": 17,
      "outputs": [
        {
          "output_type": "stream",
          "text": [
            "yes\n"
          ],
          "name": "stdout"
        }
      ]
    },
    {
      "cell_type": "code",
      "metadata": {
        "colab": {
          "base_uri": "https://localhost:8080/",
          "height": 35
        },
        "id": "mpzAyfPqUC5R",
        "outputId": "44338558-3657-4953-ccbb-b2ddfac6404e"
      },
      "source": [
        "x[3]"
      ],
      "execution_count": 20,
      "outputs": [
        {
          "output_type": "execute_result",
          "data": {
            "application/vnd.google.colaboratory.intrinsic+json": {
              "type": "string"
            },
            "text/plain": [
              "'four'"
            ]
          },
          "metadata": {
            "tags": []
          },
          "execution_count": 20
        }
      ]
    },
    {
      "cell_type": "code",
      "metadata": {
        "id": "HJOjDqSjUsQS"
      },
      "source": [
        "def square (x):\n",
        "  return x ** 2"
      ],
      "execution_count": 22,
      "outputs": []
    },
    {
      "cell_type": "code",
      "metadata": {
        "colab": {
          "base_uri": "https://localhost:8080/"
        },
        "id": "5eAIzvigWjKC",
        "outputId": "eb404f5c-ab5d-4685-c6c3-33bdbb6d93a9"
      },
      "source": [
        "type(square)"
      ],
      "execution_count": 23,
      "outputs": [
        {
          "output_type": "execute_result",
          "data": {
            "text/plain": [
              "function"
            ]
          },
          "metadata": {
            "tags": []
          },
          "execution_count": 23
        }
      ]
    },
    {
      "cell_type": "code",
      "metadata": {
        "id": "49fnzmyDaJIn"
      },
      "source": [
        "def power(x, n):\n",
        "  '''\n",
        "  raise x to the nth power\n",
        "  '''\n",
        "  if not (type(n) == int):\n",
        "    raise(Exception(\"I don't know how to handle non-integer powers\")) #prints out an error message!\n",
        "\n",
        "  #why are each of these control flow statements needed?\n",
        "  if n == 0:\n",
        "    return 1\n",
        "  elif n < 0:\n",
        "    return 1 / power(x, -n)\n",
        "  else:\n",
        "    return x * power(x, n - 1) #this line is the main \"workhorse\" of the function-- why?\n"
      ],
      "execution_count": 24,
      "outputs": []
    },
    {
      "cell_type": "code",
      "metadata": {
        "colab": {
          "base_uri": "https://localhost:8080/"
        },
        "id": "CBA_AVQDaLK8",
        "outputId": "f2d078cc-6b26-4933-da96-7a38f3d5c2eb"
      },
      "source": [
        "power(2,3)"
      ],
      "execution_count": 26,
      "outputs": [
        {
          "output_type": "execute_result",
          "data": {
            "text/plain": [
              "8"
            ]
          },
          "metadata": {
            "tags": []
          },
          "execution_count": 26
        }
      ]
    },
    {
      "cell_type": "markdown",
      "metadata": {
        "id": "wjK1uZXEL9Ej"
      },
      "source": [
        "**Your second computer program**\n",
        "Next, let's make a tiny tweak to your \"Hello, world!\" program above. Instead of printing out the greeting, write a function that takes in your name as input, and returns the string `'Hello, <name>!'` (replacing `<name>` with whatever the user passed in)."
      ]
    },
    {
      "cell_type": "code",
      "metadata": {
        "colab": {
          "base_uri": "https://localhost:8080/",
          "height": 35
        },
        "id": "MdsYsSdwMHz9",
        "outputId": "72998834-14fa-4272-b1b5-c9e02b800deb"
      },
      "source": [
        "def greet(name):\n",
        "  ### BEGIN YOUR CODE\n",
        "  return f'Hello, {name}!'\n",
        "  ### END YOUR CODE\n",
        "greet ('jingyi')"
      ],
      "execution_count": 1,
      "outputs": [
        {
          "output_type": "execute_result",
          "data": {
            "application/vnd.google.colaboratory.intrinsic+json": {
              "type": "string"
            },
            "text/plain": [
              "'Hello, jingyi!'"
            ]
          },
          "metadata": {
            "tags": []
          },
          "execution_count": 1
        }
      ]
    },
    {
      "cell_type": "code",
      "metadata": {
        "colab": {
          "base_uri": "https://localhost:8080/",
          "height": 35
        },
        "id": "7Wpc5j9AOCJa",
        "outputId": "52ebe746-e62c-45b0-d660-165a735c843e"
      },
      "source": [
        "def greet(name):\n",
        "  if type(name) is not str:\n",
        "    return \"Not a valid name!\"\n",
        "  else:\n",
        "    return f'Hello,{name}!'\n",
        "greet (0)"
      ],
      "execution_count": 6,
      "outputs": [
        {
          "output_type": "execute_result",
          "data": {
            "application/vnd.google.colaboratory.intrinsic+json": {
              "type": "string"
            },
            "text/plain": [
              "'Not a valid name!'"
            ]
          },
          "metadata": {
            "tags": []
          },
          "execution_count": 6
        }
      ]
    },
    {
      "cell_type": "code",
      "metadata": {
        "colab": {
          "base_uri": "https://localhost:8080/",
          "height": 35
        },
        "id": "3w8GeNgzOy4G",
        "outputId": "67315bac-f9e6-4afd-d9b6-c54bcf08cb83"
      },
      "source": [
        "x=[\"Alice\", \"Jingyi\",\"Get\"]\n",
        "def greet(name):\n",
        "  if type(name) is list:\n",
        "    return f'Hello, {x[0]},{x[1]},and {x[2]}!'\n",
        "  else:\n",
        "    return f'Hello,{name}!'\n",
        "greet(x)"
      ],
      "execution_count": 13,
      "outputs": [
        {
          "output_type": "execute_result",
          "data": {
            "application/vnd.google.colaboratory.intrinsic+json": {
              "type": "string"
            },
            "text/plain": [
              "'Hello, Alice,Jingyi,and Get!'"
            ]
          },
          "metadata": {
            "tags": []
          },
          "execution_count": 13
        }
      ]
    }
  ]
}